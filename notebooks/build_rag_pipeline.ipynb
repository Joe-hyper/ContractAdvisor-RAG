{
 "cells": [
  {
   "cell_type": "code",
   "execution_count": null,
   "metadata": {},
   "outputs": [],
   "source": [
    "# notebooks/02_build_rag_pipeline.ipynb\n",
    "from langchain.chains.question_answering import load_qa_chain\n",
    "from langchain.llms import HuggingFaceLLM\n",
    "from langchain.vectorstores import SimpleVectorStore\n",
    "from langchain.text_splitter import RecursiveCharacterTextSplitter\n",
    "from langchain.embeddings import HuggingFaceEmbeddings\n",
    "\n",
    "def load_contract_text(file_path):\n",
    "    with open(file_path, 'r') as file:\n",
    "        return file.read()\n",
    "\n",
    "# Load and preprocess the contract text\n",
    "contract_text = load_contract_text('../data/processed/contract.txt')\n",
    "\n",
    "# Split the text into smaller chunks\n",
    "text_splitter = RecursiveCharacterTextSplitter(chunk_size=1000, chunk_overlap=100)\n",
    "contract_chunks = text_splitter.split_text(contract_text)\n",
    "\n",
    "# Load pre-trained embeddings\n",
    "embeddings = HuggingFaceEmbeddings(model_name=\"sentence-transformers/all-MiniLM-L6-v2\")\n",
    "\n",
    "# Create a vector store\n",
    "vector_store = SimpleVectorStore(embeddings)\n",
    "vector_store.add_texts(contract_chunks)\n",
    "\n",
    "# Load the QA chain\n",
    "llm = HuggingFaceLLM.from_pretrained(\"deepset/roberta-base-squad2\")\n",
    "qa_chain = load_qa_chain(llm, chain_type=\"stuff\")\n",
    "\n",
    "# Example question\n",
    "question = \"Who are the parties to the Agreement and what are their defined names?\"\n",
    "docs = vector_store.similarity_search(question, k=5)\n",
    "answer = qa_chain.run(input_documents=docs, question=question)\n",
    "print(f\"Q: {question}\\nA: {answer}\")\n"
   ]
  }
 ],
 "metadata": {
  "language_info": {
   "name": "python"
  }
 },
 "nbformat": 4,
 "nbformat_minor": 2
}
