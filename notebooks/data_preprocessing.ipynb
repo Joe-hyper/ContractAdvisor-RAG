{
 "cells": [
  {
   "cell_type": "code",
   "execution_count": null,
   "metadata": {},
   "outputs": [],
   "source": [
    "# notebooks/01_data_preprocessing.ipynb\n",
    "import os\n",
    "from docx import Document\n",
    "\n",
    "def load_contract(file_path):\n",
    "    doc = Document(file_path)\n",
    "    full_text = []\n",
    "    for para in doc.paragraphs:\n",
    "        full_text.append(para.text)\n",
    "    return '\\n'.join(full_text)\n",
    "\n",
    "contract_text = load_contract('/mnt/data/advisory sample.docx')\n",
    "\n",
    "# Save preprocessed text\n",
    "os.makedirs('../data/processed', exist_ok=True)\n",
    "with open('../data/processed/contract.txt', 'w') as f:\n",
    "    f.write(contract_text)s\n",
    "\n",
    "print(\"Contract text has been preprocessed and saved.\")\n"
   ]
  }
 ],
 "metadata": {
  "language_info": {
   "name": "python"
  }
 },
 "nbformat": 4,
 "nbformat_minor": 2
}
