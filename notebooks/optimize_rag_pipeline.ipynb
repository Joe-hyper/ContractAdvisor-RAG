{
 "cells": [
  {
   "cell_type": "code",
   "execution_count": null,
   "metadata": {},
   "outputs": [],
   "source": [
    "# notebooks/03_evaluate_rag_pipeline.ipynb\n",
    "from src.models.rag_pipeline import build_rag_pipeline, ask_question\n",
    "from src.models.evaluate import evaluate_rag_pipeline\n",
    "\n",
    "qa_chain, vector_store = build_rag_pipeline()\n",
    "\n",
    "questions_answers = [\n",
    "    {\"question\": \"Who are the parties to the Agreement and what are their defined names?\", \"answer\": \"Cloud Investments Ltd. (“Company”) and Jack Robinson (“Advisor”)\"},\n",
    "    {\"question\": \"In which street does the Advisor live?\", \"answer\": \"1 Rabin st Tel Aviv Israel\"}\n",
    "]\n",
    "\n",
    "evaluation_metrics = evaluate_rag_pipeline(qa_chain, vector_store, questions_answers)\n",
    "print(evaluation_metrics)\n"
   ]
  }
 ],
 "metadata": {
  "language_info": {
   "name": "python"
  }
 },
 "nbformat": 4,
 "nbformat_minor": 2
}
